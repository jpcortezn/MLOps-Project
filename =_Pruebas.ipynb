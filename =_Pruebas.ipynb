{
 "cells": [
  {
   "cell_type": "code",
   "execution_count": 1,
   "id": "28a95951",
   "metadata": {},
   "outputs": [
    {
     "name": "stdout",
     "output_type": "stream",
     "text": [
      "Python version: 3.13.2 (main, Feb  4 2025, 14:51:09) [Clang 16.0.0 (clang-1600.0.26.6)]\n",
      "PyTorch version: 2.7.0\n",
      "Platform: macOS-15.4.1-arm64-arm-64bit-Mach-O\n",
      "macOS version: 15.4.1\n",
      "Machine: arm64\n",
      "Processor: arm\n",
      "\n",
      "MPS Configuration:\n",
      "MPS available: True\n",
      "MPS built: True\n",
      "\n",
      "Successfully created tensor on MPS device!\n",
      "Tensor device: mps:0\n",
      "\n",
      "All available devices:\n",
      "CUDA not available\n"
     ]
    }
   ],
   "source": [
    "# debug_mps.py\n",
    "import torch\n",
    "import platform\n",
    "import sys\n",
    "\n",
    "print(f\"Python version: {sys.version}\")\n",
    "print(f\"PyTorch version: {torch.__version__}\")\n",
    "print(f\"Platform: {platform.platform()}\")\n",
    "print(f\"macOS version: {platform.mac_ver()[0]}\")\n",
    "print(f\"Machine: {platform.machine()}\")\n",
    "print(f\"Processor: {platform.processor()}\")\n",
    "\n",
    "# Check MPS availability\n",
    "print(\"\\nMPS Configuration:\")\n",
    "print(f\"MPS available: {torch.backends.mps.is_available()}\")\n",
    "print(f\"MPS built: {torch.backends.mps.is_built()}\")\n",
    "\n",
    "# Try to create MPS device\n",
    "try:\n",
    "    device = torch.device(\"mps\")\n",
    "    x = torch.ones(1, device=device)\n",
    "    print(\"\\nSuccessfully created tensor on MPS device!\")\n",
    "    print(f\"Tensor device: {x.device}\")\n",
    "except Exception as e:\n",
    "    print(f\"\\nError creating MPS device: {e}\")\n",
    "    \n",
    "print(\"\\nAll available devices:\")\n",
    "if torch.cuda.is_available():\n",
    "    print(f\"CUDA devices: {torch.cuda.device_count()}\")\n",
    "    for i in range(torch.cuda.device_count()):\n",
    "        print(f\"  Device {i}: {torch.cuda.get_device_name(i)}\")\n",
    "else:\n",
    "    print(\"CUDA not available\")"
   ]
  },
  {
   "cell_type": "code",
   "execution_count": null,
   "id": "f9aa9012",
   "metadata": {},
   "outputs": [],
   "source": []
  }
 ],
 "metadata": {
  "kernelspec": {
   "display_name": "venv",
   "language": "python",
   "name": "python3"
  },
  "language_info": {
   "codemirror_mode": {
    "name": "ipython",
    "version": 3
   },
   "file_extension": ".py",
   "mimetype": "text/x-python",
   "name": "python",
   "nbconvert_exporter": "python",
   "pygments_lexer": "ipython3",
   "version": "3.13.2"
  }
 },
 "nbformat": 4,
 "nbformat_minor": 5
}
